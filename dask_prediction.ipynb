{
 "cells": [
  {
   "cell_type": "code",
   "execution_count": 1,
   "metadata": {},
   "outputs": [],
   "source": [
    "import pyreadstat\n",
    "import pandas as pd\n",
    "import numpy as np\n",
    "from dask import compute, persist\n",
    "import dask.dataframe as dd\n",
    "import pickle"
   ]
  },
  {
   "cell_type": "code",
   "execution_count": 2,
   "metadata": {},
   "outputs": [],
   "source": [
    "import xgboost as xgb\n",
    "import dask_xgboost as dxgb\n",
    "from sklearn.metrics import precision_score\n",
    "from sklearn.metrics import confusion_matrix"
   ]
  },
  {
   "cell_type": "code",
   "execution_count": 4,
   "metadata": {},
   "outputs": [],
   "source": [
    "import os\n",
    "from dask.distributed import Client, progress\n",
    "# client = Client(os.environ.get(\"DISTRIBUTED_ADDRESS\"))\n",
    "client = Client(n_workers=4, threads_per_worker=1)"
   ]
  },
  {
   "cell_type": "code",
   "execution_count": 5,
   "metadata": {},
   "outputs": [],
   "source": [
    "merged_ddf = dd.read_hdf('/appl/dirac/projects/attrsrch/greenfield/merged_book2.hdf', '/data', mode='r')"
   ]
  },
  {
   "cell_type": "code",
   "execution_count": 6,
   "metadata": {},
   "outputs": [],
   "source": [
    "df = pd.read_pickle('/appl/dirac/projects/attrsrch/greenfield/3quarter_cleaned.pkl')"
   ]
  },
  {
   "cell_type": "code",
   "execution_count": 7,
   "metadata": {},
   "outputs": [],
   "source": [
    "# pd.set_option('display.max_columns', 100)"
   ]
  },
  {
   "cell_type": "code",
   "execution_count": 8,
   "metadata": {},
   "outputs": [],
   "source": [
    "merged_ddf['uad_year'] = merged_ddf['prop_book_dt'].dt.year"
   ]
  },
  {
   "cell_type": "code",
   "execution_count": 9,
   "metadata": {},
   "outputs": [],
   "source": [
    "merged_ddf = merged_ddf.rename(columns={\"sf\": \"sf_uad\", \n",
    "                                      \"lot\": \"lot_uad\", \n",
    "                                      \"bdrm\": \"bdrm_uad\",\n",
    "                                      \"bath\": \"bath_uad\",\n",
    "                                      \"sf_total\": \"sf_prdw\", \n",
    "                                      \"lot_size\": \"lot_prdw\", \n",
    "                                      \"no_bath\": \"bath_prdw\", \n",
    "                                      })"
   ]
  },
  {
   "cell_type": "code",
   "execution_count": 10,
   "metadata": {},
   "outputs": [],
   "source": [
    "merged_ddf['yr_built_diff'] = merged_ddf['yr_built_prdw'] - merged_ddf['yr_built_uad']\n",
    "merged_ddf['sf_diff'] = merged_ddf['sf_prdw'] - merged_ddf['sf_uad']\n",
    "merged_ddf['lot_diff'] = merged_ddf['lot_prdw'] - merged_ddf['lot_uad']\n",
    "merged_ddf['bath_diff'] = merged_ddf['bath_prdw'] - merged_ddf['bath_uad']"
   ]
  },
  {
   "cell_type": "code",
   "execution_count": 11,
   "metadata": {},
   "outputs": [],
   "source": [
    "# sample the dataframe to shrink size and test\n",
    "merged_ddf = merged_ddf.sample(frac=0.01)"
   ]
  },
  {
   "cell_type": "code",
   "execution_count": 23,
   "metadata": {},
   "outputs": [
    {
     "ename": "ModuleNotFoundError",
     "evalue": "No module named 'dask_ml'",
     "output_type": "error",
     "traceback": [
      "\u001b[0;31m---------------------------------------------------------------------------\u001b[0m",
      "\u001b[0;31mModuleNotFoundError\u001b[0m                       Traceback (most recent call last)",
      "\u001b[0;32m<ipython-input-23-aaa999715058>\u001b[0m in \u001b[0;36m<module>\u001b[0;34m\u001b[0m\n\u001b[0;32m----> 1\u001b[0;31m \u001b[0;32mimport\u001b[0m \u001b[0mdask_ml\u001b[0m\u001b[0;34m\u001b[0m\u001b[0;34m\u001b[0m\u001b[0m\n\u001b[0m",
      "\u001b[0;31mModuleNotFoundError\u001b[0m: No module named 'dask_ml'"
     ]
    }
   ],
   "source": [
    "import dask_ml"
   ]
  },
  {
   "cell_type": "code",
   "execution_count": 12,
   "metadata": {},
   "outputs": [],
   "source": [
    "# pick columns\n",
    "cols = [\n",
    "#         'tax_year', \n",
    "        'yr_built_prdw', 'sf_prdw', 'lot_prdw', 'bath_prdw', \n",
    "        'uad_year', 'yr_built_uad', 'sf_uad', 'lot_uad', 'bdrm_uad', 'bath_uad', \n",
    "#         'year_diff', \n",
    "        'yr_built_diff', 'sf_diff', 'lot_diff', 'bath_diff'\n",
    "        ]"
   ]
  },
  {
   "cell_type": "code",
   "execution_count": 18,
   "metadata": {},
   "outputs": [
    {
     "data": {
      "application/vnd.jupyter.widget-view+json": {
       "model_id": "ad9ea4cb33ca4894b064186de86bfc51",
       "version_major": 2,
       "version_minor": 0
      },
      "text/plain": [
       "VBox()"
      ]
     },
     "metadata": {},
     "output_type": "display_data"
    }
   ],
   "source": [
    "X = merged_ddf[cols].persist()\n",
    "progress(X)\n",
    "# pred_mat = xgb.DMatrix(X)"
   ]
  },
  {
   "cell_type": "code",
   "execution_count": 19,
   "metadata": {},
   "outputs": [
    {
     "data": {
      "text/html": [
       "<div>\n",
       "<style scoped>\n",
       "    .dataframe tbody tr th:only-of-type {\n",
       "        vertical-align: middle;\n",
       "    }\n",
       "\n",
       "    .dataframe tbody tr th {\n",
       "        vertical-align: top;\n",
       "    }\n",
       "\n",
       "    .dataframe thead th {\n",
       "        text-align: right;\n",
       "    }\n",
       "</style>\n",
       "<table border=\"1\" class=\"dataframe\">\n",
       "  <thead>\n",
       "    <tr style=\"text-align: right;\">\n",
       "      <th></th>\n",
       "      <th>yr_built_prdw</th>\n",
       "      <th>sf_prdw</th>\n",
       "      <th>lot_prdw</th>\n",
       "      <th>bath_prdw</th>\n",
       "      <th>uad_year</th>\n",
       "      <th>yr_built_uad</th>\n",
       "      <th>sf_uad</th>\n",
       "      <th>lot_uad</th>\n",
       "      <th>bdrm_uad</th>\n",
       "      <th>bath_uad</th>\n",
       "      <th>yr_built_diff</th>\n",
       "      <th>sf_diff</th>\n",
       "      <th>lot_diff</th>\n",
       "      <th>bath_diff</th>\n",
       "    </tr>\n",
       "  </thead>\n",
       "  <tbody>\n",
       "    <tr>\n",
       "      <th>140969</th>\n",
       "      <td>1980.0</td>\n",
       "      <td>1254.0</td>\n",
       "      <td>NaN</td>\n",
       "      <td>2.0</td>\n",
       "      <td>2014</td>\n",
       "      <td>1980.0</td>\n",
       "      <td>1250.0</td>\n",
       "      <td>NaN</td>\n",
       "      <td>2.0</td>\n",
       "      <td>2.0</td>\n",
       "      <td>0.0</td>\n",
       "      <td>4.0</td>\n",
       "      <td>NaN</td>\n",
       "      <td>0.0</td>\n",
       "    </tr>\n",
       "    <tr>\n",
       "      <th>296309</th>\n",
       "      <td>2006.0</td>\n",
       "      <td>1408.0</td>\n",
       "      <td>21774.0</td>\n",
       "      <td>2.0</td>\n",
       "      <td>2014</td>\n",
       "      <td>2006.0</td>\n",
       "      <td>1410.0</td>\n",
       "      <td>21780.000000</td>\n",
       "      <td>3.0</td>\n",
       "      <td>2.0</td>\n",
       "      <td>0.0</td>\n",
       "      <td>-2.0</td>\n",
       "      <td>-6.000000</td>\n",
       "      <td>0.0</td>\n",
       "    </tr>\n",
       "    <tr>\n",
       "      <th>56135</th>\n",
       "      <td>1963.0</td>\n",
       "      <td>2298.0</td>\n",
       "      <td>14809.0</td>\n",
       "      <td>2.0</td>\n",
       "      <td>2015</td>\n",
       "      <td>1963.0</td>\n",
       "      <td>2370.0</td>\n",
       "      <td>14810.400391</td>\n",
       "      <td>4.0</td>\n",
       "      <td>3.0</td>\n",
       "      <td>0.0</td>\n",
       "      <td>-72.0</td>\n",
       "      <td>-1.400391</td>\n",
       "      <td>-1.0</td>\n",
       "    </tr>\n",
       "    <tr>\n",
       "      <th>193307</th>\n",
       "      <td>1977.0</td>\n",
       "      <td>1924.0</td>\n",
       "      <td>17850.0</td>\n",
       "      <td>2.0</td>\n",
       "      <td>2019</td>\n",
       "      <td>1977.0</td>\n",
       "      <td>1970.0</td>\n",
       "      <td>17859.599609</td>\n",
       "      <td>2.0</td>\n",
       "      <td>2.0</td>\n",
       "      <td>0.0</td>\n",
       "      <td>-46.0</td>\n",
       "      <td>-9.599609</td>\n",
       "      <td>0.0</td>\n",
       "    </tr>\n",
       "    <tr>\n",
       "      <th>325385</th>\n",
       "      <td>1956.0</td>\n",
       "      <td>1502.0</td>\n",
       "      <td>70132.0</td>\n",
       "      <td>1.0</td>\n",
       "      <td>2019</td>\n",
       "      <td>1956.0</td>\n",
       "      <td>1500.0</td>\n",
       "      <td>70131.601562</td>\n",
       "      <td>3.0</td>\n",
       "      <td>1.5</td>\n",
       "      <td>0.0</td>\n",
       "      <td>2.0</td>\n",
       "      <td>0.398438</td>\n",
       "      <td>-0.5</td>\n",
       "    </tr>\n",
       "  </tbody>\n",
       "</table>\n",
       "</div>"
      ],
      "text/plain": [
       "        yr_built_prdw  sf_prdw  lot_prdw  bath_prdw  uad_year  yr_built_uad  \\\n",
       "140969         1980.0   1254.0       NaN        2.0      2014        1980.0   \n",
       "296309         2006.0   1408.0   21774.0        2.0      2014        2006.0   \n",
       "56135          1963.0   2298.0   14809.0        2.0      2015        1963.0   \n",
       "193307         1977.0   1924.0   17850.0        2.0      2019        1977.0   \n",
       "325385         1956.0   1502.0   70132.0        1.0      2019        1956.0   \n",
       "\n",
       "        sf_uad       lot_uad  bdrm_uad  bath_uad  yr_built_diff  sf_diff  \\\n",
       "140969  1250.0           NaN       2.0       2.0            0.0      4.0   \n",
       "296309  1410.0  21780.000000       3.0       2.0            0.0     -2.0   \n",
       "56135   2370.0  14810.400391       4.0       3.0            0.0    -72.0   \n",
       "193307  1970.0  17859.599609       2.0       2.0            0.0    -46.0   \n",
       "325385  1500.0  70131.601562       3.0       1.5            0.0      2.0   \n",
       "\n",
       "        lot_diff  bath_diff  \n",
       "140969       NaN        0.0  \n",
       "296309 -6.000000        0.0  \n",
       "56135  -1.400391       -1.0  \n",
       "193307 -9.599609        0.0  \n",
       "325385  0.398438       -0.5  "
      ]
     },
     "execution_count": 19,
     "metadata": {},
     "output_type": "execute_result"
    }
   ],
   "source": [
    "X.head()"
   ]
  },
  {
   "cell_type": "code",
   "execution_count": 20,
   "metadata": {},
   "outputs": [],
   "source": [
    "model = pickle.load(open('model2.pkl', 'rb'))"
   ]
  },
  {
   "cell_type": "code",
   "execution_count": 21,
   "metadata": {},
   "outputs": [
    {
     "data": {
      "text/html": [
       "<table style=\"border: 2px solid white;\">\n",
       "<tr>\n",
       "<td style=\"vertical-align: top; border: 0px solid white\">\n",
       "<h3>Client</h3>\n",
       "<ul>\n",
       "  <li><b>Scheduler: </b>tcp://127.0.0.1:42879\n",
       "  <li><b>Dashboard: </b><a href='http://127.0.0.1:8787/status' target='_blank'>http://127.0.0.1:8787/status</a>\n",
       "</ul>\n",
       "</td>\n",
       "<td style=\"vertical-align: top; border: 0px solid white\">\n",
       "<h3>Cluster</h3>\n",
       "<ul>\n",
       "  <li><b>Workers: </b>4</li>\n",
       "  <li><b>Cores: </b>4</li>\n",
       "  <li><b>Memory: </b>134.90 GB</li>\n",
       "</ul>\n",
       "</td>\n",
       "</tr>\n",
       "</table>"
      ],
      "text/plain": [
       "<Client: scheduler='tcp://127.0.0.1:42879' processes=4 cores=4>"
      ]
     },
     "execution_count": 21,
     "metadata": {},
     "output_type": "execute_result"
    }
   ],
   "source": [
    "client"
   ]
  },
  {
   "cell_type": "code",
   "execution_count": 22,
   "metadata": {},
   "outputs": [
    {
     "data": {
      "application/vnd.jupyter.widget-view+json": {
       "model_id": "beed1706fb3f47de9947deb6cbf7ed07",
       "version_major": 2,
       "version_minor": 0
      },
      "text/plain": [
       "VBox()"
      ]
     },
     "metadata": {},
     "output_type": "display_data"
    }
   ],
   "source": [
    "preds = dxgb.predict(client, model, X).persist()\n",
    "progress(preds)"
   ]
  },
  {
   "cell_type": "code",
   "execution_count": 20,
   "metadata": {},
   "outputs": [
    {
     "data": {
      "text/plain": [
       "{'tcp://10.215.56.43:34307': {'type': 'Worker',\n",
       "  'id': 0,\n",
       "  'host': '10.215.56.43',\n",
       "  'resources': {},\n",
       "  'local_directory': '/home/q2uxap/pc_model/dask-worker-space/worker-f6ioeods',\n",
       "  'name': 0,\n",
       "  'nthreads': 4,\n",
       "  'memory_limit': 33725121536,\n",
       "  'last_seen': 1576008272.125613,\n",
       "  'services': {},\n",
       "  'metrics': {'cpu': 0.0,\n",
       "   'memory': 1870831616,\n",
       "   'time': 1576008271.6255195,\n",
       "   'read_bytes': 8779.457474790193,\n",
       "   'write_bytes': 15850.911404484841,\n",
       "   'num_fds': 27,\n",
       "   'executing': 0,\n",
       "   'in_memory': 8,\n",
       "   'ready': 0,\n",
       "   'in_flight': 0,\n",
       "   'bandwidth': 100000000},\n",
       "  'nanny': 'tcp://10.215.56.43:34817'},\n",
       " 'tcp://10.215.56.43:35669': {'type': 'Worker',\n",
       "  'id': 2,\n",
       "  'host': '10.215.56.43',\n",
       "  'resources': {},\n",
       "  'local_directory': '/home/q2uxap/pc_model/dask-worker-space/worker-tpl8z8of',\n",
       "  'name': 2,\n",
       "  'nthreads': 4,\n",
       "  'memory_limit': 33725121536,\n",
       "  'last_seen': 1576008272.1209047,\n",
       "  'services': {},\n",
       "  'metrics': {'cpu': 2.0,\n",
       "   'memory': 2977247232,\n",
       "   'time': 1576008271.6199806,\n",
       "   'read_bytes': 8217.321866870696,\n",
       "   'write_bytes': 15325.495822494262,\n",
       "   'num_fds': 26,\n",
       "   'executing': 0,\n",
       "   'in_memory': 8,\n",
       "   'ready': 0,\n",
       "   'in_flight': 0,\n",
       "   'bandwidth': 100000000},\n",
       "  'nanny': 'tcp://10.215.56.43:35899'},\n",
       " 'tcp://10.215.56.43:37845': {'type': 'Worker',\n",
       "  'id': 3,\n",
       "  'host': '10.215.56.43',\n",
       "  'resources': {},\n",
       "  'local_directory': '/home/q2uxap/pc_model/dask-worker-space/worker-3tqp7ttk',\n",
       "  'name': 3,\n",
       "  'nthreads': 4,\n",
       "  'memory_limit': 33725121536,\n",
       "  'last_seen': 1576008272.1263819,\n",
       "  'services': {},\n",
       "  'metrics': {'cpu': 2.0,\n",
       "   'memory': 2149203968,\n",
       "   'time': 1576008271.6245348,\n",
       "   'read_bytes': 7595.613172000668,\n",
       "   'write_bytes': 14690.724685329706,\n",
       "   'num_fds': 26,\n",
       "   'executing': 0,\n",
       "   'in_memory': 8,\n",
       "   'ready': 0,\n",
       "   'in_flight': 0,\n",
       "   'bandwidth': 100000000},\n",
       "  'nanny': 'tcp://10.215.56.43:41511'},\n",
       " 'tcp://10.215.56.43:46363': {'type': 'Worker',\n",
       "  'id': 1,\n",
       "  'host': '10.215.56.43',\n",
       "  'resources': {},\n",
       "  'local_directory': '/home/q2uxap/pc_model/dask-worker-space/worker-fln9i594',\n",
       "  'name': 1,\n",
       "  'nthreads': 4,\n",
       "  'memory_limit': 33725121536,\n",
       "  'last_seen': 1576008272.127808,\n",
       "  'services': {},\n",
       "  'metrics': {'cpu': 2.0,\n",
       "   'memory': 2862149632,\n",
       "   'time': 1576008271.626604,\n",
       "   'read_bytes': 7847.941730390293,\n",
       "   'write_bytes': 14950.369077811947,\n",
       "   'num_fds': 26,\n",
       "   'executing': 0,\n",
       "   'in_memory': 7,\n",
       "   'ready': 0,\n",
       "   'in_flight': 0,\n",
       "   'bandwidth': 100000000},\n",
       "  'nanny': 'tcp://10.215.56.43:37149'}}"
      ]
     },
     "execution_count": 20,
     "metadata": {},
     "output_type": "execute_result"
    }
   ],
   "source": [
    "client.scheduler_info()['workers']"
   ]
  },
  {
   "cell_type": "code",
   "execution_count": 8,
   "metadata": {},
   "outputs": [],
   "source": [
    "# generate target0\n",
    "df['target0'] = 0\n",
    "df.loc[abs(df['prdw_appe'] - df['uad_appe']) <= 0.1, 'target0'] = 0\n",
    "df.loc[df['prdw_appe'] - df['uad_appe'] > 0.1, 'target0'] = 1\n",
    "df.loc[df['prdw_appe'] - df['uad_appe'] < -0.1, 'target0'] = 2\n",
    "\n",
    "# generate target1\n",
    "df['target1'] = 0\n",
    "df.loc[abs(abs(df['prdw_ppe'] - df['market_prdw_ppe']) - abs(df['uad_ppe'] - df['market_uad_ppe'])) <= 0.1, 'target1'] = 0\n",
    "df.loc[abs(df['prdw_ppe'] - df['market_prdw_ppe']) - abs(df['uad_ppe'] - df['market_uad_ppe']) > 0.1, 'target1'] = 1\n",
    "df.loc[abs(df['prdw_ppe'] - df['market_prdw_ppe']) - abs(df['uad_ppe'] - df['market_uad_ppe']) < -0.1, 'target1'] = 2\n",
    "\n",
    "# generate target2\n",
    "df['target2'] = 0\n",
    "df.loc[abs(abs(df['prdw_appe'] - abs(df['market_prdw_ppe'])) - abs(df['uad_appe'] - abs(df['market_uad_ppe']))) <= 0.1, 'target2'] = 0\n",
    "df.loc[abs(df['prdw_appe'] - abs(df['market_prdw_ppe'])) - abs(df['uad_appe'] - abs(df['market_uad_ppe'])) > 0.1, 'target2'] = 1\n",
    "df.loc[abs(df['prdw_appe'] - abs(df['market_prdw_ppe'])) - abs(df['uad_appe'] - abs(df['market_uad_ppe'])) < -0.1, 'target2'] = 2\n",
    "\n",
    "# generate target3\n",
    "df['target3'] = abs(df['prdw_appe'] - abs(df['market_prdw_ppe'])) - abs(df['uad_appe'] - abs(df['market_uad_ppe']))\n",
    "\n",
    "df['year_diff'] = df['tax_year'] - df['uad_year']\n",
    "df['yr_built_diff'] = df['yr_built_prdw'] - df['yr_built_uad']\n",
    "df['age_diff'] = df['age_prdw'] - df['age_uad']\n",
    "df['sf_diff'] = df['sf_prdw'] - df['sf_uad']\n",
    "df['lot_diff'] = df['lot_prdw'] - df['lot_uad']\n",
    "df['bath_diff'] = df['bath_prdw'] - df['bath_uad']"
   ]
  },
  {
   "cell_type": "code",
   "execution_count": 9,
   "metadata": {},
   "outputs": [],
   "source": [
    "# pick columns\n",
    "cols = [\n",
    "#         'tax_year', \n",
    "        'yr_built_prdw', 'sf_prdw', 'lot_prdw', 'bath_prdw', \n",
    "        'uad_year', 'yr_built_uad', 'sf_uad', 'lot_uad', 'bdrm_uad', 'bath_uad', \n",
    "#         'year_diff', \n",
    "        'yr_built_diff', 'sf_diff', 'lot_diff', 'bath_diff'\n",
    "        ]\n",
    "\n",
    "X2 = df[cols]"
   ]
  },
  {
   "cell_type": "code",
   "execution_count": 10,
   "metadata": {},
   "outputs": [
    {
     "data": {
      "text/html": [
       "<div>\n",
       "<style scoped>\n",
       "    .dataframe tbody tr th:only-of-type {\n",
       "        vertical-align: middle;\n",
       "    }\n",
       "\n",
       "    .dataframe tbody tr th {\n",
       "        vertical-align: top;\n",
       "    }\n",
       "\n",
       "    .dataframe thead th {\n",
       "        text-align: right;\n",
       "    }\n",
       "</style>\n",
       "<table border=\"1\" class=\"dataframe\">\n",
       "  <thead>\n",
       "    <tr style=\"text-align: right;\">\n",
       "      <th></th>\n",
       "      <th>yr_built_prdw</th>\n",
       "      <th>sf_prdw</th>\n",
       "      <th>lot_prdw</th>\n",
       "      <th>bath_prdw</th>\n",
       "      <th>uad_year</th>\n",
       "      <th>yr_built_uad</th>\n",
       "      <th>sf_uad</th>\n",
       "      <th>lot_uad</th>\n",
       "      <th>bdrm_uad</th>\n",
       "      <th>bath_uad</th>\n",
       "      <th>yr_built_diff</th>\n",
       "      <th>sf_diff</th>\n",
       "      <th>lot_diff</th>\n",
       "      <th>bath_diff</th>\n",
       "    </tr>\n",
       "  </thead>\n",
       "  <tbody>\n",
       "    <tr>\n",
       "      <th>0</th>\n",
       "      <td>1955.0</td>\n",
       "      <td>1072.0</td>\n",
       "      <td>18971.0</td>\n",
       "      <td>1.0</td>\n",
       "      <td>2018</td>\n",
       "      <td>1955.0</td>\n",
       "      <td>1070.0</td>\n",
       "      <td>19166.400391</td>\n",
       "      <td>3.0</td>\n",
       "      <td>1.0</td>\n",
       "      <td>0.0</td>\n",
       "      <td>2.0</td>\n",
       "      <td>-195.400391</td>\n",
       "      <td>0.0</td>\n",
       "    </tr>\n",
       "    <tr>\n",
       "      <th>1</th>\n",
       "      <td>1990.0</td>\n",
       "      <td>2594.0</td>\n",
       "      <td>43369.0</td>\n",
       "      <td>2.0</td>\n",
       "      <td>2018</td>\n",
       "      <td>1990.0</td>\n",
       "      <td>2610.0</td>\n",
       "      <td>43560.000000</td>\n",
       "      <td>4.0</td>\n",
       "      <td>2.5</td>\n",
       "      <td>0.0</td>\n",
       "      <td>-16.0</td>\n",
       "      <td>-191.000000</td>\n",
       "      <td>-0.5</td>\n",
       "    </tr>\n",
       "    <tr>\n",
       "      <th>2</th>\n",
       "      <td>1960.0</td>\n",
       "      <td>960.0</td>\n",
       "      <td>17550.0</td>\n",
       "      <td>1.0</td>\n",
       "      <td>2018</td>\n",
       "      <td>1960.0</td>\n",
       "      <td>960.0</td>\n",
       "      <td>17424.000000</td>\n",
       "      <td>2.0</td>\n",
       "      <td>1.0</td>\n",
       "      <td>0.0</td>\n",
       "      <td>0.0</td>\n",
       "      <td>126.000000</td>\n",
       "      <td>0.0</td>\n",
       "    </tr>\n",
       "    <tr>\n",
       "      <th>3</th>\n",
       "      <td>2008.0</td>\n",
       "      <td>2955.0</td>\n",
       "      <td>25673.0</td>\n",
       "      <td>3.0</td>\n",
       "      <td>2016</td>\n",
       "      <td>2008.0</td>\n",
       "      <td>2950.0</td>\n",
       "      <td>25700.400391</td>\n",
       "      <td>4.0</td>\n",
       "      <td>3.0</td>\n",
       "      <td>0.0</td>\n",
       "      <td>5.0</td>\n",
       "      <td>-27.400391</td>\n",
       "      <td>0.0</td>\n",
       "    </tr>\n",
       "    <tr>\n",
       "      <th>4</th>\n",
       "      <td>1989.0</td>\n",
       "      <td>2088.0</td>\n",
       "      <td>21261.0</td>\n",
       "      <td>2.0</td>\n",
       "      <td>2018</td>\n",
       "      <td>1989.0</td>\n",
       "      <td>1920.0</td>\n",
       "      <td>21344.400391</td>\n",
       "      <td>3.0</td>\n",
       "      <td>2.5</td>\n",
       "      <td>0.0</td>\n",
       "      <td>168.0</td>\n",
       "      <td>-83.400391</td>\n",
       "      <td>-0.5</td>\n",
       "    </tr>\n",
       "  </tbody>\n",
       "</table>\n",
       "</div>"
      ],
      "text/plain": [
       "   yr_built_prdw  sf_prdw  lot_prdw  bath_prdw  uad_year  yr_built_uad  \\\n",
       "0         1955.0   1072.0   18971.0        1.0      2018        1955.0   \n",
       "1         1990.0   2594.0   43369.0        2.0      2018        1990.0   \n",
       "2         1960.0    960.0   17550.0        1.0      2018        1960.0   \n",
       "3         2008.0   2955.0   25673.0        3.0      2016        2008.0   \n",
       "4         1989.0   2088.0   21261.0        2.0      2018        1989.0   \n",
       "\n",
       "   sf_uad       lot_uad  bdrm_uad  bath_uad  yr_built_diff  sf_diff  \\\n",
       "0  1070.0  19166.400391       3.0       1.0            0.0      2.0   \n",
       "1  2610.0  43560.000000       4.0       2.5            0.0    -16.0   \n",
       "2   960.0  17424.000000       2.0       1.0            0.0      0.0   \n",
       "3  2950.0  25700.400391       4.0       3.0            0.0      5.0   \n",
       "4  1920.0  21344.400391       3.0       2.5            0.0    168.0   \n",
       "\n",
       "     lot_diff  bath_diff  \n",
       "0 -195.400391        0.0  \n",
       "1 -191.000000       -0.5  \n",
       "2  126.000000        0.0  \n",
       "3  -27.400391        0.0  \n",
       "4  -83.400391       -0.5  "
      ]
     },
     "execution_count": 10,
     "metadata": {},
     "output_type": "execute_result"
    }
   ],
   "source": [
    "X2 = dd.from_pandas(X2, npartitions=1).persist()\n",
    "X2.head()"
   ]
  },
  {
   "cell_type": "code",
   "execution_count": 11,
   "metadata": {},
   "outputs": [
    {
     "data": {
      "text/html": [
       "<table>\n",
       "<tr>\n",
       "<td>\n",
       "<table>  <thead>    <tr><td> </td><th> Array </th><th> Chunk </th></tr>\n",
       "  </thead>\n",
       "  <tbody>\n",
       "    <tr><th> Bytes </th><td> unknown </td> <td> unknown </td></tr>\n",
       "    <tr><th> Shape </th><td> (nan,) </td> <td> (nan,) </td></tr>\n",
       "    <tr><th> Count </th><td> 1 Tasks </td><td> 1 Chunks </td></tr>\n",
       "    <tr><th> Type </th><td> float32 </td><td> numpy.ndarray </td></tr>\n",
       "  </tbody></table>\n",
       "</td>\n",
       "<td>\n",
       "\n",
       "</td>\n",
       "</tr>\n",
       "</table>"
      ],
      "text/plain": [
       "dask.array<values, shape=(nan,), dtype=float32, chunksize=(nan,)>"
      ]
     },
     "execution_count": 11,
     "metadata": {},
     "output_type": "execute_result"
    }
   ],
   "source": [
    "preds2 = dxgb.predict(client, model, X2).persist()\n",
    "preds2"
   ]
  },
  {
   "cell_type": "code",
   "execution_count": 12,
   "metadata": {},
   "outputs": [
    {
     "data": {
      "application/vnd.jupyter.widget-view+json": {
       "model_id": "e2f82d5f9c6f43d8a7fb1f2d5ed749e4",
       "version_major": 2,
       "version_minor": 0
      },
      "text/plain": [
       "VBox()"
      ]
     },
     "metadata": {},
     "output_type": "display_data"
    }
   ],
   "source": [
    "progress(preds2)"
   ]
  },
  {
   "cell_type": "code",
   "execution_count": null,
   "metadata": {},
   "outputs": [],
   "source": [
    "! vmstat -s"
   ]
  }
 ],
 "metadata": {
  "kernelspec": {
   "display_name": "Python 3",
   "language": "python",
   "name": "python3"
  },
  "language_info": {
   "codemirror_mode": {
    "name": "ipython",
    "version": 3
   },
   "file_extension": ".py",
   "mimetype": "text/x-python",
   "name": "python",
   "nbconvert_exporter": "python",
   "pygments_lexer": "ipython3",
   "version": "3.6.7"
  }
 },
 "nbformat": 4,
 "nbformat_minor": 4
}
